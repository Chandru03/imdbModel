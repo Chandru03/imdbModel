{
 "cells": [
  {
   "cell_type": "code",
   "id": "initial_id",
   "metadata": {
    "collapsed": true,
    "ExecuteTime": {
     "end_time": "2025-03-21T09:55:55.016290Z",
     "start_time": "2025-03-21T09:55:54.842161Z"
    }
   },
   "source": [
    "import pandas as pd\n",
    "import numpy as np\n",
    "from sklearn.model_selection import train_test_split\n",
    "from sklearn.preprocessing import LabelEncoder, StandardScaler\n",
    "from pytorch_tabnet.tab_model import TabNetRegressor\n",
    "from sklearn.metrics import mean_absolute_error\n",
    "import torch\n",
    "\n",
    "df = pd.read_csv(\"/Users/chandrus/development/imdb_top_1000.csv\")\n",
    "print(df.head())  # check if the data loaded properly\n"
   ],
   "outputs": [
    {
     "name": "stdout",
     "output_type": "stream",
     "text": [
      "                                         Poster_Link  \\\n",
      "0  https://m.media-amazon.com/images/M/MV5BMDFkYT...   \n",
      "1  https://m.media-amazon.com/images/M/MV5BM2MyNj...   \n",
      "2  https://m.media-amazon.com/images/M/MV5BMTMxNT...   \n",
      "3  https://m.media-amazon.com/images/M/MV5BMWMwMG...   \n",
      "4  https://m.media-amazon.com/images/M/MV5BMWU4N2...   \n",
      "\n",
      "               Series_Title Released_Year Certificate  Runtime  \\\n",
      "0  The Shawshank Redemption          1994           A  142 min   \n",
      "1             The Godfather          1972           A  175 min   \n",
      "2           The Dark Knight          2008          UA  152 min   \n",
      "3    The Godfather: Part II          1974           A  202 min   \n",
      "4              12 Angry Men          1957           U   96 min   \n",
      "\n",
      "                  Genre  IMDB_Rating  \\\n",
      "0                 Drama          9.3   \n",
      "1          Crime, Drama          9.2   \n",
      "2  Action, Crime, Drama          9.0   \n",
      "3          Crime, Drama          9.0   \n",
      "4          Crime, Drama          9.0   \n",
      "\n",
      "                                            Overview  Meta_score  \\\n",
      "0  Two imprisoned men bond over a number of years...        80.0   \n",
      "1  An organized crime dynasty's aging patriarch t...       100.0   \n",
      "2  When the menace known as the Joker wreaks havo...        84.0   \n",
      "3  The early life and career of Vito Corleone in ...        90.0   \n",
      "4  A jury holdout attempts to prevent a miscarria...        96.0   \n",
      "\n",
      "               Director           Star1           Star2          Star3  \\\n",
      "0        Frank Darabont     Tim Robbins  Morgan Freeman     Bob Gunton   \n",
      "1  Francis Ford Coppola   Marlon Brando       Al Pacino     James Caan   \n",
      "2     Christopher Nolan  Christian Bale    Heath Ledger  Aaron Eckhart   \n",
      "3  Francis Ford Coppola       Al Pacino  Robert De Niro  Robert Duvall   \n",
      "4          Sidney Lumet     Henry Fonda     Lee J. Cobb  Martin Balsam   \n",
      "\n",
      "            Star4  No_of_Votes        Gross  \n",
      "0  William Sadler      2343110   28,341,469  \n",
      "1    Diane Keaton      1620367  134,966,411  \n",
      "2   Michael Caine      2303232  534,858,444  \n",
      "3    Diane Keaton      1129952   57,300,000  \n",
      "4    John Fiedler       689845    4,360,000  \n"
     ]
    }
   ],
   "execution_count": 162
  },
  {
   "metadata": {
    "ExecuteTime": {
     "end_time": "2025-03-21T09:55:55.235236Z",
     "start_time": "2025-03-21T09:55:55.231765Z"
    }
   },
   "cell_type": "code",
   "source": [
    "# Select relevant columns for training\n",
    "features = [\"Runtime\", \"Meta_score\", \"No_of_Votes\"]  # Adjust as needed\n",
    "target = \"IMDB_Rating\""
   ],
   "id": "26c0255daa49a94f",
   "outputs": [],
   "execution_count": 163
  },
  {
   "metadata": {
    "ExecuteTime": {
     "end_time": "2025-03-21T09:55:55.287111Z",
     "start_time": "2025-03-21T09:55:55.274535Z"
    }
   },
   "cell_type": "code",
   "source": [
    "# Drop rows with missing values in selected features\n",
    "df = df.dropna(subset=features + [target])\n"
   ],
   "id": "898ff43e1c0dcd9a",
   "outputs": [],
   "execution_count": 164
  },
  {
   "metadata": {
    "ExecuteTime": {
     "end_time": "2025-03-21T09:55:55.333388Z",
     "start_time": "2025-03-21T09:55:55.321877Z"
    }
   },
   "cell_type": "code",
   "source": [
    "# Convert categorical values if needed (e.g., encoding genres)\n",
    "df[\"Runtime\"] = df[\"Runtime\"].str.replace(\" min\", \"\").astype(float)"
   ],
   "id": "cc0a5116b0af116c",
   "outputs": [],
   "execution_count": 165
  },
  {
   "metadata": {
    "ExecuteTime": {
     "end_time": "2025-03-21T09:55:55.364955Z",
     "start_time": "2025-03-21T09:55:55.361404Z"
    }
   },
   "cell_type": "code",
   "source": [
    "# Prepare data\n",
    "X = df[features]\n",
    "y = df[target]"
   ],
   "id": "92865a8bcf2dfd86",
   "outputs": [],
   "execution_count": 166
  },
  {
   "metadata": {
    "ExecuteTime": {
     "end_time": "2025-03-21T09:55:55.410956Z",
     "start_time": "2025-03-21T09:55:55.396418Z"
    }
   },
   "cell_type": "code",
   "source": [
    "# Split dataset\n",
    "X_train, X_test, y_train, y_test = train_test_split(X, y, test_size=0.2, random_state=42)\n"
   ],
   "id": "b5fdd78adb5d8383",
   "outputs": [],
   "execution_count": 167
  },
  {
   "metadata": {
    "ExecuteTime": {
     "end_time": "2025-03-21T09:55:55.438440Z",
     "start_time": "2025-03-21T09:55:55.428063Z"
    }
   },
   "cell_type": "code",
   "source": [
    "# Scale numerical features\n",
    "scaler = StandardScaler()\n",
    "X_train = scaler.fit_transform(X_train)\n",
    "X_test = scaler.transform(X_test)"
   ],
   "id": "b511aa9595d37a39",
   "outputs": [],
   "execution_count": 168
  },
  {
   "metadata": {
    "ExecuteTime": {
     "end_time": "2025-03-21T09:55:55.492943Z",
     "start_time": "2025-03-21T09:55:55.485010Z"
    }
   },
   "cell_type": "code",
   "source": [
    "# Convert data to PyTorch tensors\n",
    "X_train = torch.tensor(X_train, dtype=torch.float32)\n",
    "X_test = torch.tensor(X_test, dtype=torch.float32)\n",
    "y_train = torch.tensor(y_train.values, dtype=torch.float32).unsqueeze(1)\n",
    "y_test = torch.tensor(y_test.values, dtype=torch.float32).unsqueeze(1)\n"
   ],
   "id": "b73e3ff15898d6e1",
   "outputs": [],
   "execution_count": 169
  },
  {
   "metadata": {
    "ExecuteTime": {
     "end_time": "2025-03-21T09:55:57.016036Z",
     "start_time": "2025-03-21T09:55:55.496466Z"
    }
   },
   "cell_type": "code",
   "source": [
    "# Initialize and train TabNet model\n",
    "model = TabNetRegressor()\n",
    "model.fit(\n",
    "    X_train.numpy(), y_train.numpy(),\n",
    "    eval_set=[(X_test.numpy(), y_test.numpy())],\n",
    "    max_epochs=50,\n",
    "    patience=5,\n",
    "    batch_size=128,\n",
    ")"
   ],
   "id": "abfaaf940fbbab2",
   "outputs": [
    {
     "name": "stderr",
     "output_type": "stream",
     "text": [
      "/Users/chandrus/PycharmProjects/PythonProject1/.venv/lib/python3.9/site-packages/pytorch_tabnet/abstract_model.py:82: UserWarning: Device used : cpu\n",
      "  warnings.warn(f\"Device used : {self.device}\")\n"
     ]
    },
    {
     "name": "stdout",
     "output_type": "stream",
     "text": [
      "epoch 0  | loss: 57.29309| val_0_mse: 44.62435|  0:00:00s\n",
      "epoch 1  | loss: 33.95709| val_0_mse: 26.79542|  0:00:00s\n",
      "epoch 2  | loss: 18.30399| val_0_mse: 16.16301|  0:00:00s\n",
      "epoch 3  | loss: 6.35244 | val_0_mse: 10.09499|  0:00:00s\n",
      "epoch 4  | loss: 1.40312 | val_0_mse: 11.42473|  0:00:00s\n",
      "epoch 5  | loss: 1.51623 | val_0_mse: 6.05874 |  0:00:00s\n",
      "epoch 6  | loss: 0.50561 | val_0_mse: 4.33107 |  0:00:00s\n",
      "epoch 7  | loss: 0.43337 | val_0_mse: 3.16185 |  0:00:00s\n",
      "epoch 8  | loss: 0.32142 | val_0_mse: 2.21593 |  0:00:00s\n",
      "epoch 9  | loss: 0.19215 | val_0_mse: 2.34194 |  0:00:00s\n",
      "epoch 10 | loss: 0.14244 | val_0_mse: 2.1272  |  0:00:00s\n",
      "epoch 11 | loss: 0.13814 | val_0_mse: 2.17937 |  0:00:00s\n",
      "epoch 12 | loss: 0.14797 | val_0_mse: 2.08265 |  0:00:00s\n",
      "epoch 13 | loss: 0.12244 | val_0_mse: 1.47505 |  0:00:00s\n",
      "epoch 14 | loss: 0.10968 | val_0_mse: 1.6403  |  0:00:00s\n",
      "epoch 15 | loss: 0.11336 | val_0_mse: 1.36553 |  0:00:00s\n",
      "epoch 16 | loss: 0.09484 | val_0_mse: 1.25484 |  0:00:00s\n",
      "epoch 17 | loss: 0.09864 | val_0_mse: 0.77513 |  0:00:00s\n",
      "epoch 18 | loss: 0.10839 | val_0_mse: 0.90714 |  0:00:00s\n",
      "epoch 19 | loss: 0.10632 | val_0_mse: 0.6068  |  0:00:01s\n",
      "epoch 20 | loss: 0.0652  | val_0_mse: 0.67289 |  0:00:01s\n",
      "epoch 21 | loss: 0.07845 | val_0_mse: 0.61992 |  0:00:01s\n",
      "epoch 22 | loss: 0.07144 | val_0_mse: 0.49999 |  0:00:01s\n",
      "epoch 23 | loss: 0.07136 | val_0_mse: 0.40549 |  0:00:01s\n",
      "epoch 24 | loss: 0.06525 | val_0_mse: 0.51524 |  0:00:01s\n",
      "epoch 25 | loss: 0.06219 | val_0_mse: 0.30426 |  0:00:01s\n",
      "epoch 26 | loss: 0.072   | val_0_mse: 0.48764 |  0:00:01s\n",
      "epoch 27 | loss: 0.0753  | val_0_mse: 0.1888  |  0:00:01s\n",
      "epoch 28 | loss: 0.0865  | val_0_mse: 0.31233 |  0:00:01s\n",
      "epoch 29 | loss: 0.07279 | val_0_mse: 0.29657 |  0:00:01s\n",
      "epoch 30 | loss: 0.07355 | val_0_mse: 0.26827 |  0:00:01s\n",
      "epoch 31 | loss: 0.06392 | val_0_mse: 0.28656 |  0:00:01s\n",
      "epoch 32 | loss: 0.07156 | val_0_mse: 0.18952 |  0:00:01s\n",
      "\n",
      "Early stopping occurred at epoch 32 with best_epoch = 27 and best_val_0_mse = 0.1888\n"
     ]
    },
    {
     "name": "stderr",
     "output_type": "stream",
     "text": [
      "/Users/chandrus/PycharmProjects/PythonProject1/.venv/lib/python3.9/site-packages/pytorch_tabnet/callbacks.py:172: UserWarning: Best weights from best epoch are automatically used!\n",
      "  warnings.warn(wrn_msg)\n"
     ]
    }
   ],
   "execution_count": 170
  },
  {
   "metadata": {
    "ExecuteTime": {
     "end_time": "2025-03-21T09:55:57.338914Z",
     "start_time": "2025-03-21T09:55:57.326791Z"
    }
   },
   "cell_type": "code",
   "source": [
    "from sklearn.preprocessing import StandardScaler\n",
    "import joblib\n",
    "\n",
    "# Train the scaler\n",
    "scaler = StandardScaler()\n",
    "X_train_scaled = scaler.fit_transform(X_train)\n",
    "\n",
    "# Save the fitted scaler\n",
    "joblib.dump(scaler, \"scaler.pkl\")\n",
    "print(\"Scaler saved successfully!\")\n"
   ],
   "id": "657cc7858069fcc3",
   "outputs": [
    {
     "name": "stdout",
     "output_type": "stream",
     "text": [
      "Scaler saved successfully!\n"
     ]
    }
   ],
   "execution_count": 171
  },
  {
   "metadata": {
    "ExecuteTime": {
     "end_time": "2025-03-21T09:55:57.362356Z",
     "start_time": "2025-03-21T09:55:57.360244Z"
    }
   },
   "cell_type": "code",
   "source": "",
   "id": "a31c882ba894571b",
   "outputs": [],
   "execution_count": null
  },
  {
   "metadata": {
    "ExecuteTime": {
     "end_time": "2025-03-21T09:55:57.410733Z",
     "start_time": "2025-03-21T09:55:57.392386Z"
    }
   },
   "cell_type": "code",
   "source": [
    "# Predictions\n",
    "y_pred = model.predict(X_test.numpy()).flatten()\n"
   ],
   "id": "7cddc29f2a6207bb",
   "outputs": [],
   "execution_count": 172
  },
  {
   "metadata": {
    "ExecuteTime": {
     "end_time": "2025-03-21T09:55:57.444059Z",
     "start_time": "2025-03-21T09:55:57.439688Z"
    }
   },
   "cell_type": "code",
   "source": [
    "# Evaluate performance\n",
    "mae = mean_absolute_error(y_test.numpy(), y_pred)\n",
    "print(f\"Mean Absolute Error: {mae:.3f}\")\n"
   ],
   "id": "36911929e4c9e9b6",
   "outputs": [
    {
     "name": "stdout",
     "output_type": "stream",
     "text": [
      "Mean Absolute Error: 0.356\n"
     ]
    }
   ],
   "execution_count": 173
  },
  {
   "metadata": {
    "ExecuteTime": {
     "end_time": "2025-03-21T09:55:57.494078Z",
     "start_time": "2025-03-21T09:55:57.471537Z"
    }
   },
   "cell_type": "code",
   "source": [
    "# Save model\n",
    "model.save_model(\"tabnet_imdb\")"
   ],
   "id": "831fc20e778ae107",
   "outputs": [
    {
     "name": "stdout",
     "output_type": "stream",
     "text": [
      "Successfully saved model at tabnet_imdb.zip\n"
     ]
    },
    {
     "data": {
      "text/plain": [
       "'tabnet_imdb.zip'"
      ]
     },
     "execution_count": 174,
     "metadata": {},
     "output_type": "execute_result"
    }
   ],
   "execution_count": 174
  },
  {
   "metadata": {
    "ExecuteTime": {
     "end_time": "2025-03-21T09:55:57.558811Z",
     "start_time": "2025-03-21T09:55:57.525864Z"
    }
   },
   "cell_type": "code",
   "source": [
    "from pytorch_tabnet.tab_model import TabNetRegressor\n",
    "import torch\n",
    "import pickle\n",
    "\n",
    "# Assuming you already trained the model\n",
    "model = TabNetRegressor()\n",
    "\n",
    "# Load the trained model from its saved state (if it exists)\n",
    "model.load_model(\"tabnet_imdb.zip\")\n",
    "\n",
    "# Save the trained model to a .pkl file\n",
    "with open(\"tabnet_model.pkl\", \"wb\") as f:\n",
    "    pickle.dump(model, f)\n",
    "\n",
    "print(\"✅ Model saved successfully as 'tabnet_model.pkl'\")\n"
   ],
   "id": "f63a4597e7bdf727",
   "outputs": [
    {
     "name": "stdout",
     "output_type": "stream",
     "text": [
      "✅ Model saved successfully as 'tabnet_model.pkl'\n"
     ]
    },
    {
     "name": "stderr",
     "output_type": "stream",
     "text": [
      "/Users/chandrus/PycharmProjects/PythonProject1/.venv/lib/python3.9/site-packages/pytorch_tabnet/abstract_model.py:82: UserWarning: Device used : cpu\n",
      "  warnings.warn(f\"Device used : {self.device}\")\n"
     ]
    }
   ],
   "execution_count": 175
  },
  {
   "metadata": {
    "ExecuteTime": {
     "end_time": "2025-03-21T09:55:57.600702Z",
     "start_time": "2025-03-21T09:55:57.592104Z"
    }
   },
   "cell_type": "code",
   "source": [
    "# In your notebook:\n",
    "# Prepare data\n",
    "X = df[features]  # [\"Runtime\", \"Meta_score\", \"No_of_Votes\"]\n",
    "y = df[target]\n",
    "\n",
    "# Split dataset\n",
    "X_train, X_test, y_train, y_test = train_test_split(X, y, test_size=0.2, random_state=42)\n",
    "\n",
    "# Train and save scaler\n",
    "scaler = StandardScaler()\n",
    "X_train_scaled = scaler.fit_transform(X_train)\n",
    "X_test_scaled = scaler.transform(X_test)\n",
    "\n",
    "# Save scaler BEFORE converting to tensor\n",
    "joblib.dump(scaler, \"scaler.pkl\")\n",
    "\n",
    "# Convert to tensor after scaling\n",
    "X_train_tensor = torch.tensor(X_train_scaled, dtype=torch.float32)\n",
    "X_test_tensor = torch.tensor(X_test_scaled, dtype=torch.float32)"
   ],
   "id": "3f3e90076f69e929",
   "outputs": [],
   "execution_count": 176
  },
  {
   "metadata": {},
   "cell_type": "markdown",
   "source": "",
   "id": "70702c6f02db4d36"
  }
 ],
 "metadata": {
  "kernelspec": {
   "display_name": "Python 3",
   "language": "python",
   "name": "python3"
  },
  "language_info": {
   "codemirror_mode": {
    "name": "ipython",
    "version": 2
   },
   "file_extension": ".py",
   "mimetype": "text/x-python",
   "name": "python",
   "nbconvert_exporter": "python",
   "pygments_lexer": "ipython2",
   "version": "2.7.6"
  }
 },
 "nbformat": 4,
 "nbformat_minor": 5
}
